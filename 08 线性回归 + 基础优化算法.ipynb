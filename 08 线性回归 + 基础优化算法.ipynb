{
 "cells": [
  {
   "cell_type": "markdown",
   "id": "08b3a7cf",
   "metadata": {},
   "source": [
    "# 线性回归从零开始实现\n",
    "## 从零开始实现整个方法，包括数据流水线、模型、损失函数和小批量随机梯度下降优化器\n"
   ]
  },
  {
   "cell_type": "code",
   "execution_count": 3,
   "id": "af56b595",
   "metadata": {},
   "outputs": [],
   "source": [
    "%matplotlib inline \n",
    "import random \n",
    "import torch\n",
    "from d2l import torch as d2l"
   ]
  },
  {
   "cell_type": "code",
   "execution_count": null,
   "id": "79e679d2",
   "metadata": {},
   "outputs": [],
   "source": []
  }
 ],
 "metadata": {
  "kernelspec": {
   "display_name": "pytorch",
   "language": "python",
   "name": "pytorch"
  },
  "language_info": {
   "codemirror_mode": {
    "name": "ipython",
    "version": 3
   },
   "file_extension": ".py",
   "mimetype": "text/x-python",
   "name": "python",
   "nbconvert_exporter": "python",
   "pygments_lexer": "ipython3",
   "version": "3.9.18"
  }
 },
 "nbformat": 4,
 "nbformat_minor": 5
}
