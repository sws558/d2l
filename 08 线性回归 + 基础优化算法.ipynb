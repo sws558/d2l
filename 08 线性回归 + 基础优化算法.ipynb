{
 "cells": [
  {
   "cell_type": "code",
   "execution_count": 1,
   "id": "af56b595",
   "metadata": {},
   "outputs": [],
   "source": [
    "%matplotlib inline \n",
    "import random \n",
    "import torch\n",
    "from d2l import torch as d2l"
   ]
  },
  {
   "cell_type": "code",
   "execution_count": 2,
   "id": "79e679d2",
   "metadata": {},
   "outputs": [],
   "source": [
    "def synthetic_data(w,b,num_examples):\n",
    "    x=torch.normal(0,1,(num_examples,len(w)))\n",
    "    y=torch.matmul(x,w)+b\n",
    "    y+=torch.normal(0,0.01,y.shape)\n",
    "    return x,y.reshape((-1,1))\n",
    "true_w=torch.tensor([2,-3.4])\n",
    "true_b=4.2\n",
    "features,labels=synthetic_data(true_w,true_b,10)"
   ]
  },
  {
   "cell_type": "markdown",
   "id": "4b72743d",
   "metadata": {},
   "source": [
    "## 写下面的函数前的测试"
   ]
  },
  {
   "cell_type": "code",
   "execution_count": 12,
   "id": "27446e5b",
   "metadata": {},
   "outputs": [
    {
     "name": "stdout",
     "output_type": "stream",
     "text": [
      "10\n"
     ]
    }
   ],
   "source": [
    "num_examples=len(features)\n",
    "print(num_examples)"
   ]
  },
  {
   "cell_type": "code",
   "execution_count": 13,
   "id": "955ad18b",
   "metadata": {},
   "outputs": [
    {
     "name": "stdout",
     "output_type": "stream",
     "text": [
      "[0, 1, 2, 3, 4, 5, 6, 7, 8, 9]\n"
     ]
    }
   ],
   "source": [
    "indices=list(range(num_examples))\n",
    "print(indices)"
   ]
  },
  {
   "cell_type": "code",
   "execution_count": 16,
   "id": "0dd26ea8",
   "metadata": {},
   "outputs": [
    {
     "name": "stdout",
     "output_type": "stream",
     "text": [
      "[1, 6, 5, 7, 4, 8, 0, 9, 3, 2]\n"
     ]
    }
   ],
   "source": [
    "random.shuffle(indices)\n",
    "print(indices)"
   ]
  },
  {
   "cell_type": "code",
   "execution_count": 20,
   "id": "6e5be38e",
   "metadata": {},
   "outputs": [
    {
     "data": {
      "text/plain": [
       "[1, 6, 5, 7, 4]"
      ]
     },
     "execution_count": 20,
     "metadata": {},
     "output_type": "execute_result"
    }
   ],
   "source": [
    "indices[0:5]"
   ]
  },
  {
   "cell_type": "code",
   "execution_count": 21,
   "id": "f27d817a",
   "metadata": {},
   "outputs": [
    {
     "name": "stdout",
     "output_type": "stream",
     "text": [
      "0\n",
      "2\n",
      "4\n",
      "6\n",
      "8\n"
     ]
    }
   ],
   "source": [
    "for i in range(0,10,2):\n",
    "    print(i)"
   ]
  },
  {
   "cell_type": "code",
   "execution_count": 29,
   "id": "aa26efe7",
   "metadata": {},
   "outputs": [
    {
     "name": "stdout",
     "output_type": "stream",
     "text": [
      "tensor([[-1.1815, -1.4367],\n",
      "        [-0.5424,  0.7147],\n",
      "        [ 1.8042,  0.9787],\n",
      "        [-0.4213,  1.2445],\n",
      "        [-1.6473,  0.3432],\n",
      "        [ 0.4952, -0.4321],\n",
      "        [ 1.0479, -0.1214],\n",
      "        [ 1.3426, -0.8107],\n",
      "        [-2.7168, -0.4283],\n",
      "        [ 0.5945,  0.1303]])\n",
      "tensor([3, 9])\n",
      "tensor([[-0.4213,  1.2445],\n",
      "        [ 0.5945,  0.1303]]) tensor([[-0.8999],\n",
      "        [ 4.9389]])\n",
      "\n",
      "\n",
      "tensor([8, 6])\n",
      "tensor([[-2.7168, -0.4283],\n",
      "        [ 1.0479, -0.1214]]) tensor([[0.2286],\n",
      "        [6.7029]])\n",
      "\n",
      "\n",
      "tensor([1, 5])\n",
      "tensor([[-0.5424,  0.7147],\n",
      "        [ 0.4952, -0.4321]]) tensor([[0.6835],\n",
      "        [6.6463]])\n",
      "\n",
      "\n",
      "tensor([4, 0])\n",
      "tensor([[-1.6473,  0.3432],\n",
      "        [-1.1815, -1.4367]]) tensor([[-0.2710],\n",
      "        [ 6.7251]])\n",
      "\n",
      "\n",
      "tensor([7, 2])\n",
      "tensor([[ 1.3426, -0.8107],\n",
      "        [ 1.8042,  0.9787]]) tensor([[9.6474],\n",
      "        [4.4766]])\n",
      "\n",
      "\n"
     ]
    }
   ],
   "source": [
    "print(features)\n",
    "num_examples=len(features)\n",
    "indices=list(range(num_examples))\n",
    "random.shuffle(indices)\n",
    "for i in range(0,num_examples,2):\n",
    "        batch_indices=torch.tensor(\n",
    "            indices[i:min(i+2,num_examples)])\n",
    "        print(batch_indices)\n",
    "        print(features[batch_indices],labels[batch_indices])\n",
    "        print('\\n')"
   ]
  },
  {
   "cell_type": "markdown",
   "id": "83e03888",
   "metadata": {},
   "source": [
    "## 定义一个data_iter函数，该函数接受批量大小，特征矩阵和标签向量作为输入，生成大小为batch——size的小批量"
   ]
  },
  {
   "cell_type": "code",
   "execution_count": 31,
   "id": "331eee50",
   "metadata": {},
   "outputs": [
    {
     "name": "stdout",
     "output_type": "stream",
     "text": [
      "tensor([[ 1.0479, -0.1214],\n",
      "        [ 0.4952, -0.4321]]) \n",
      " tensor([[6.7029],\n",
      "        [6.6463]])\n"
     ]
    }
   ],
   "source": [
    "def data_iter(batch_size,features,labels):\n",
    "    num_examples=len(features)\n",
    "    indices=list(range(num_examples))\n",
    "    random.shuffle(indices)\n",
    "    for i in range(0,num_examples,batch_size):\n",
    "        batch_indices=torch.tensor(\n",
    "            indices[i:min(i+batch_size,num_examples)])\n",
    "        yield features[batch_indices],labels[batch_indices]\n",
    "batch_size=2\n",
    "data_iter(batch_size,features,labels)\n",
    "for X,y in data_iter(batch_size,features,labels):\n",
    "    print(X,'\\n',y)\n",
    "    break"
   ]
  },
  {
   "cell_type": "markdown",
   "id": "4c07653b",
   "metadata": {},
   "source": [
    "## 定义初始化模型参数"
   ]
  },
  {
   "cell_type": "code",
   "execution_count": 32,
   "id": "51fee0c8",
   "metadata": {},
   "outputs": [],
   "source": [
    "w=torch.normal(0,0.01,(2,1),requires_grad=True)\n",
    "b=torch.zeros(1,requires_grad=True)\n"
   ]
  },
  {
   "cell_type": "markdown",
   "id": "7004bd76",
   "metadata": {},
   "source": [
    "## 定义模型"
   ]
  },
  {
   "cell_type": "code",
   "execution_count": 33,
   "id": "18daea21",
   "metadata": {},
   "outputs": [],
   "source": [
    "def linreg(x,w,b):\n",
    "    \"\"\"线性回归模型\"\"\"\n",
    "    return torch.matul(x,w)+b"
   ]
  },
  {
   "cell_type": "code",
   "execution_count": null,
   "id": "a4e90c1d",
   "metadata": {},
   "outputs": [],
   "source": []
  }
 ],
 "metadata": {
  "kernelspec": {
   "display_name": "pytorch",
   "language": "python",
   "name": "python3"
  },
  "language_info": {
   "codemirror_mode": {
    "name": "ipython",
    "version": 3
   },
   "file_extension": ".py",
   "mimetype": "text/x-python",
   "name": "python",
   "nbconvert_exporter": "python",
   "pygments_lexer": "ipython3",
   "version": "3.9.18"
  }
 },
 "nbformat": 4,
 "nbformat_minor": 5
}
